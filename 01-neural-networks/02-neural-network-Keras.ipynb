{
 "cells": [
  {
   "cell_type": "markdown",
   "metadata": {},
   "source": [
    "# Implement a Neural Network Using Keras"
   ]
  },
  {
   "cell_type": "markdown",
   "metadata": {},
   "source": [
    "## Load and Process the MNIST Dataset\n",
    "\n",
    "1. Load data"
   ]
  },
  {
   "cell_type": "code",
   "execution_count": 1,
   "metadata": {},
   "outputs": [
    {
     "name": "stderr",
     "output_type": "stream",
     "text": [
      "Using TensorFlow backend.\n"
     ]
    },
    {
     "name": "stdout",
     "output_type": "stream",
     "text": [
      "Shape of x_train: (60000, 28, 28)\n",
      "Shape of y_train: (60000,)\n",
      "Shape of x_test: (10000, 28, 28)\n",
      "Shape of y_test: (10000,)\n"
     ]
    }
   ],
   "source": [
    "from keras.datasets import mnist \n",
    "\n",
    "(x_train, y_train), (x_test, y_test) = mnist.load_data()\n",
    "\n",
    "print('Shape of x_train: ' + str(x_train.shape))\n",
    "print('Shape of y_train: ' + str(y_train.shape))\n",
    "print('Shape of x_test: ' + str(x_test.shape))\n",
    "print('Shape of y_test: ' + str(y_test.shape))"
   ]
  },
  {
   "cell_type": "markdown",
   "metadata": {},
   "source": [
    "2. Convert the 28x28 images to 784-dim vectors "
   ]
  },
  {
   "cell_type": "code",
   "execution_count": 2,
   "metadata": {},
   "outputs": [
    {
     "name": "stdout",
     "output_type": "stream",
     "text": [
      "Shape of x_train_vec is (60000, 784)\n",
      "Shape of x_test_vec is (10000, 784)\n"
     ]
    }
   ],
   "source": [
    "x_train_vec = x_train.reshape(60000,784)\n",
    "x_test_vec = x_test.reshape(10000,784)\n",
    "\n",
    "print('Shape of x_train_vec is ' + str(x_train_vec.shape))\n",
    "print('Shape of x_test_vec is ' + str(x_test_vec.shape))"
   ]
  },
  {
   "cell_type": "markdown",
   "metadata": {},
   "source": [
    "3. One-hot encode: convert the labels to 10-dim vectors"
   ]
  },
  {
   "cell_type": "code",
   "execution_count": 3,
   "metadata": {},
   "outputs": [
    {
     "name": "stdout",
     "output_type": "stream",
     "text": [
      "Shape of y_train_vec is (60000, 10)\n",
      "Shape of y_test_vec is (10000, 10)\n"
     ]
    }
   ],
   "source": [
    "import numpy as np\n",
    "\n",
    "def to_one_hot(labels, dimension=10):\n",
    "    results = np.zeros((len(labels), dimension))\n",
    "    for i, label in enumerate(labels):\n",
    "        results[i, label] = 1.\n",
    "    return results\n",
    "\n",
    "y_train_vec = to_one_hot(y_train)\n",
    "y_test_vec = to_one_hot(y_test)\n",
    "\n",
    "print('Shape of y_train_vec is ' + str(y_train_vec.shape))\n",
    "print('Shape of y_test_vec is ' + str(y_test_vec.shape))"
   ]
  },
  {
   "cell_type": "markdown",
   "metadata": {},
   "source": [
    "4. Partition the training set to training and validation sets"
   ]
  },
  {
   "cell_type": "code",
   "execution_count": 4,
   "metadata": {},
   "outputs": [
    {
     "name": "stdout",
     "output_type": "stream",
     "text": [
      "Shape of x_valid_vec: (10000, 784)\n",
      "Shape of y_valid_vec: (10000, 10)\n",
      "Shape of x_train_vec: (50000, 784)\n",
      "Shape of y_train_vec: (50000, 10)\n"
     ]
    }
   ],
   "source": [
    "rand_indices = np.random.permutation(60000)\n",
    "train_indices = rand_indices[0:50000]\n",
    "valid_indices = rand_indices[50000:60000]\n",
    "\n",
    "x_valid_vec = x_train_vec[valid_indices, : ]\n",
    "y_valid_vec = y_train_vec[valid_indices, : ]\n",
    "\n",
    "x_train_vec = x_train_vec[train_indices, : ]\n",
    "y_train_vec = y_train_vec[train_indices, : ]\n",
    "\n",
    "print('Shape of x_valid_vec: ' + str(x_valid_vec.shape))\n",
    "print('Shape of y_valid_vec: ' + str(y_valid_vec.shape))\n",
    "print('Shape of x_train_vec: ' + str(x_train_vec.shape))\n",
    "print('Shape of y_train_vec: ' + str(y_train_vec.shape))"
   ]
  },
  {
   "cell_type": "markdown",
   "metadata": {},
   "source": [
    "## Build the Neural Network"
   ]
  },
  {
   "cell_type": "code",
   "execution_count": 5,
   "metadata": {},
   "outputs": [
    {
     "name": "stdout",
     "output_type": "stream",
     "text": [
      "_________________________________________________________________\n",
      "Layer (type)                 Output Shape              Param #   \n",
      "=================================================================\n",
      "dense_1 (Dense)              (None, 500)               392500    \n",
      "_________________________________________________________________\n",
      "dense_2 (Dense)              (None, 500)               250500    \n",
      "_________________________________________________________________\n",
      "dense_3 (Dense)              (None, 10)                5010      \n",
      "=================================================================\n",
      "Total params: 648,010\n",
      "Trainable params: 648,010\n",
      "Non-trainable params: 0\n",
      "_________________________________________________________________\n"
     ]
    }
   ],
   "source": [
    "import os\n",
    "os.environ['TF_CPP_MIN_LOG_LEVEL'] = '3'\n",
    "import tensorflow as tf\n",
    "tf.compat.v1.logging.set_verbosity(tf.compat.v1.logging.ERROR)\n",
    "\n",
    "from keras import models\n",
    "from keras import layers \n",
    "\n",
    "d1 = 500\n",
    "d2 = 500\n",
    "\n",
    "model = models.Sequential()\n",
    "model.add(layers.Dense(d1, activation='relu', input_shape=(784,)))\n",
    "model.add(layers.Dense(d2, activation='relu'))\n",
    "model.add(layers.Dense(10, activation='softmax'))\n",
    "\n",
    "model.summary()"
   ]
  },
  {
   "cell_type": "markdown",
   "metadata": {},
   "source": [
    "## Train the Neural Network"
   ]
  },
  {
   "cell_type": "code",
   "execution_count": 6,
   "metadata": {},
   "outputs": [
    {
     "name": "stdout",
     "output_type": "stream",
     "text": [
      "Train on 50000 samples, validate on 10000 samples\n",
      "Epoch 1/50\n",
      "50000/50000 [==============================] - 5s 92us/step - loss: 7.7204 - acc: 0.5081 - val_loss: 6.4165 - val_acc: 0.5859\n",
      "Epoch 2/50\n",
      "50000/50000 [==============================] - 4s 78us/step - loss: 5.4581 - acc: 0.6530 - val_loss: 5.4819 - val_acc: 0.6529\n",
      "Epoch 3/50\n",
      "50000/50000 [==============================] - 4s 85us/step - loss: 5.2800 - acc: 0.6665 - val_loss: 5.4866 - val_acc: 0.6526\n",
      "Epoch 4/50\n",
      "50000/50000 [==============================] - 4s 87us/step - loss: 5.2023 - acc: 0.6726 - val_loss: 5.2919 - val_acc: 0.6662\n",
      "Epoch 5/50\n",
      "50000/50000 [==============================] - 5s 90us/step - loss: 5.1455 - acc: 0.6764 - val_loss: 5.2910 - val_acc: 0.6668\n",
      "Epoch 6/50\n",
      "50000/50000 [==============================] - 5s 91us/step - loss: 5.0991 - acc: 0.6798 - val_loss: 5.2387 - val_acc: 0.6699\n",
      "Epoch 7/50\n",
      "50000/50000 [==============================] - 5s 92us/step - loss: 5.0522 - acc: 0.6829 - val_loss: 5.1861 - val_acc: 0.6743\n",
      "Epoch 8/50\n",
      "50000/50000 [==============================] - 5s 93us/step - loss: 5.0161 - acc: 0.6855 - val_loss: 5.1756 - val_acc: 0.6751\n",
      "Epoch 9/50\n",
      "50000/50000 [==============================] - 5s 92us/step - loss: 5.0034 - acc: 0.6866 - val_loss: 5.1777 - val_acc: 0.6741\n",
      "Epoch 10/50\n",
      "50000/50000 [==============================] - 5s 93us/step - loss: 4.9712 - acc: 0.6886 - val_loss: 5.2053 - val_acc: 0.6728\n",
      "Epoch 11/50\n",
      "50000/50000 [==============================] - 5s 94us/step - loss: 4.9461 - acc: 0.6906 - val_loss: 5.1644 - val_acc: 0.6746\n",
      "Epoch 12/50\n",
      "50000/50000 [==============================] - 5s 96us/step - loss: 4.9367 - acc: 0.6915 - val_loss: 5.1303 - val_acc: 0.6781\n",
      "Epoch 13/50\n",
      "50000/50000 [==============================] - 5s 96us/step - loss: 4.9165 - acc: 0.6929 - val_loss: 5.1488 - val_acc: 0.6770\n",
      "Epoch 14/50\n",
      "50000/50000 [==============================] - 5s 95us/step - loss: 4.9054 - acc: 0.6936 - val_loss: 5.1108 - val_acc: 0.6783\n",
      "Epoch 15/50\n",
      "50000/50000 [==============================] - 5s 97us/step - loss: 4.8959 - acc: 0.6944 - val_loss: 5.1657 - val_acc: 0.6750\n",
      "Epoch 16/50\n",
      "50000/50000 [==============================] - 5s 97us/step - loss: 4.8815 - acc: 0.6954 - val_loss: 5.1038 - val_acc: 0.6805\n",
      "Epoch 17/50\n",
      "50000/50000 [==============================] - 5s 96us/step - loss: 4.8750 - acc: 0.6959 - val_loss: 5.1256 - val_acc: 0.6780\n",
      "Epoch 18/50\n",
      "50000/50000 [==============================] - 5s 96us/step - loss: 4.8696 - acc: 0.6962 - val_loss: 5.0838 - val_acc: 0.6806\n",
      "Epoch 19/50\n",
      "50000/50000 [==============================] - 5s 93us/step - loss: 4.8540 - acc: 0.6972 - val_loss: 4.3567 - val_acc: 0.7211\n",
      "Epoch 20/50\n",
      "50000/50000 [==============================] - 5s 92us/step - loss: 3.4416 - acc: 0.7831 - val_loss: 3.4883 - val_acc: 0.7795\n",
      "Epoch 21/50\n",
      "50000/50000 [==============================] - 5s 95us/step - loss: 3.3474 - acc: 0.7901 - val_loss: 3.4638 - val_acc: 0.7811\n",
      "Epoch 22/50\n",
      "50000/50000 [==============================] - 5s 94us/step - loss: 3.3258 - acc: 0.7916 - val_loss: 3.4602 - val_acc: 0.7814\n",
      "Epoch 23/50\n",
      "50000/50000 [==============================] - 5s 93us/step - loss: 2.5277 - acc: 0.8386 - val_loss: 2.1727 - val_acc: 0.8583\n",
      "Epoch 24/50\n",
      "50000/50000 [==============================] - 5s 93us/step - loss: 1.5180 - acc: 0.9004 - val_loss: 0.7223 - val_acc: 0.9454\n",
      "Epoch 25/50\n",
      "50000/50000 [==============================] - 5s 93us/step - loss: 0.4280 - acc: 0.9672 - val_loss: 0.5993 - val_acc: 0.9530\n",
      "Epoch 26/50\n",
      "50000/50000 [==============================] - 5s 93us/step - loss: 0.3445 - acc: 0.9737 - val_loss: 0.5380 - val_acc: 0.9590\n",
      "Epoch 27/50\n",
      "50000/50000 [==============================] - 5s 93us/step - loss: 0.2886 - acc: 0.9779 - val_loss: 0.4959 - val_acc: 0.9621\n",
      "Epoch 28/50\n",
      "50000/50000 [==============================] - 5s 93us/step - loss: 0.2496 - acc: 0.9807 - val_loss: 0.5177 - val_acc: 0.9591\n",
      "Epoch 29/50\n",
      "50000/50000 [==============================] - 5s 94us/step - loss: 0.2312 - acc: 0.9823 - val_loss: 0.4843 - val_acc: 0.9628\n",
      "Epoch 30/50\n",
      "50000/50000 [==============================] - 5s 95us/step - loss: 0.2076 - acc: 0.9837 - val_loss: 0.4569 - val_acc: 0.9638\n",
      "Epoch 31/50\n",
      "50000/50000 [==============================] - 5s 93us/step - loss: 0.1884 - acc: 0.9854 - val_loss: 0.4487 - val_acc: 0.9657\n",
      "Epoch 32/50\n",
      "50000/50000 [==============================] - 5s 94us/step - loss: 0.1728 - acc: 0.9865 - val_loss: 0.5126 - val_acc: 0.9613\n",
      "Epoch 33/50\n",
      "50000/50000 [==============================] - 5s 94us/step - loss: 0.1661 - acc: 0.9869 - val_loss: 0.4222 - val_acc: 0.9659\n",
      "Epoch 34/50\n",
      "50000/50000 [==============================] - 5s 94us/step - loss: 0.1469 - acc: 0.9885 - val_loss: 0.4513 - val_acc: 0.9656\n",
      "Epoch 35/50\n",
      "50000/50000 [==============================] - 5s 94us/step - loss: 0.1431 - acc: 0.9889 - val_loss: 0.3931 - val_acc: 0.9699\n",
      "Epoch 36/50\n",
      "50000/50000 [==============================] - 5s 94us/step - loss: 0.1282 - acc: 0.9901 - val_loss: 0.3669 - val_acc: 0.9707\n",
      "Epoch 37/50\n",
      "50000/50000 [==============================] - 5s 94us/step - loss: 0.1222 - acc: 0.9908 - val_loss: 0.3840 - val_acc: 0.9699\n",
      "Epoch 38/50\n",
      "50000/50000 [==============================] - 5s 96us/step - loss: 0.1150 - acc: 0.9915 - val_loss: 0.3887 - val_acc: 0.9694\n",
      "Epoch 39/50\n",
      "50000/50000 [==============================] - 5s 95us/step - loss: 0.1083 - acc: 0.9918 - val_loss: 0.4066 - val_acc: 0.9687\n",
      "Epoch 40/50\n",
      "50000/50000 [==============================] - 5s 94us/step - loss: 0.1028 - acc: 0.9924 - val_loss: 0.4200 - val_acc: 0.9673\n",
      "Epoch 41/50\n",
      "50000/50000 [==============================] - 5s 95us/step - loss: 0.1065 - acc: 0.9917 - val_loss: 0.3913 - val_acc: 0.9696\n",
      "Epoch 42/50\n",
      "50000/50000 [==============================] - 5s 94us/step - loss: 0.1012 - acc: 0.9924 - val_loss: 0.4273 - val_acc: 0.9681\n",
      "Epoch 43/50\n",
      "50000/50000 [==============================] - 5s 93us/step - loss: 0.0970 - acc: 0.9925 - val_loss: 0.3837 - val_acc: 0.9709\n",
      "Epoch 44/50\n",
      "50000/50000 [==============================] - 5s 93us/step - loss: 0.0887 - acc: 0.9934 - val_loss: 0.3972 - val_acc: 0.9688\n",
      "Epoch 45/50\n",
      "50000/50000 [==============================] - 5s 93us/step - loss: 0.0866 - acc: 0.9937 - val_loss: 0.3745 - val_acc: 0.9722\n",
      "Epoch 46/50\n",
      "50000/50000 [==============================] - 5s 93us/step - loss: 0.0873 - acc: 0.9935 - val_loss: 0.4078 - val_acc: 0.9683\n",
      "Epoch 47/50\n",
      "50000/50000 [==============================] - 5s 93us/step - loss: 0.0816 - acc: 0.9941 - val_loss: 0.3469 - val_acc: 0.9729\n",
      "Epoch 48/50\n",
      "50000/50000 [==============================] - 5s 93us/step - loss: 0.0803 - acc: 0.9941 - val_loss: 0.3629 - val_acc: 0.9716\n",
      "Epoch 49/50\n",
      "50000/50000 [==============================] - 5s 95us/step - loss: 0.0758 - acc: 0.9947 - val_loss: 0.3648 - val_acc: 0.9726\n",
      "Epoch 50/50\n",
      "50000/50000 [==============================] - 5s 95us/step - loss: 0.0790 - acc: 0.9944 - val_loss: 0.3850 - val_acc: 0.9702\n"
     ]
    }
   ],
   "source": [
    "from keras import optimizers \n",
    "\n",
    "# optimization algorithm, learning rate, loss function, metrix\n",
    "model.compile(optimizers.RMSprop(lr=0.0001), loss='categorical_crossentropy', metrics=['accuracy'])\n",
    "\n",
    "# batch size, number of epochs\n",
    "history = model.fit(x_train_vec, y_train_vec, batch_size=128, epochs=50, validation_data=(x_valid_vec, y_valid_vec))"
   ]
  },
  {
   "cell_type": "markdown",
   "metadata": {},
   "source": [
    "## Examine the Results\n",
    "\n",
    "1. Plot the accuracy against epochs"
   ]
  },
  {
   "cell_type": "code",
   "execution_count": 7,
   "metadata": {},
   "outputs": [
    {
     "data": {
      "image/png": "[encoded data removed]",
      "text/plain": [
       "<Figure size 432x288 with 1 Axes>"
      ]
     },
     "metadata": {
      "needs_background": "light"
     },
     "output_type": "display_data"
    }
   ],
   "source": [
    "import matplotlib.pyplot as plt\n",
    "%matplotlib inline\n",
    "\n",
    "epochs = range(50)\n",
    "train_acc = history.history['acc']\n",
    "valid_acc = history.history['val_acc']\n",
    "plt.plot(epochs, train_acc, 'bo', label='Training Accuracy')\n",
    "plt.plot(epochs, valid_acc, 'r', label='Validation Accuracy')\n",
    "plt.xlabel('Epochs')\n",
    "plt.ylabel('Accuracy')\n",
    "plt.legend()\n",
    "plt.show()"
   ]
  },
  {
   "cell_type": "markdown",
   "metadata": {},
   "source": [
    "2. Evaluate the model on the test set"
   ]
  },
  {
   "cell_type": "code",
   "execution_count": 8,
   "metadata": {},
   "outputs": [
    {
     "name": "stdout",
     "output_type": "stream",
     "text": [
      "10000/10000 [==============================] - 0s 48us/step\n",
      "loss = 0.3746059982999121\n",
      "accuracy = 0.9701\n"
     ]
    }
   ],
   "source": [
    "loss_and_acc = model.evaluate(x_test_vec, y_test_vec)\n",
    "print('loss = ' + str(loss_and_acc[0]))\n",
    "print('accuracy = ' + str(loss_and_acc[1]))"
   ]
  },
  {
   "cell_type": "code",
   "execution_count": null,
   "metadata": {},
   "outputs": [],
   "source": []
  }
 ],
 "metadata": {
  "kernelspec": {
   "display_name": "Python 3",
   "language": "python",
   "name": "python3"
  },
  "language_info": {
   "codemirror_mode": {
    "name": "ipython",
    "version": 3
   },
   "file_extension": ".py",
   "mimetype": "text/x-python",
   "name": "python",
   "nbconvert_exporter": "python",
   "pygments_lexer": "ipython3",
   "version": "3.7.4"
  }
 },
 "nbformat": 4,
 "nbformat_minor": 2
}
