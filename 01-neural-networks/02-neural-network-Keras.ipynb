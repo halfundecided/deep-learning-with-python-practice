{
 "cells": [
  {
   "cell_type": "markdown",
   "metadata": {},
   "source": [
    "# Implement a Neural Network Using Keras"
   ]
  },
  {
   "cell_type": "markdown",
   "metadata": {},
   "source": [
    "## Load and Process the MNIST Dataset\n",
    "\n",
    "1. Load data"
   ]
  },
  {
   "cell_type": "code",
   "execution_count": 1,
   "metadata": {},
   "outputs": [
    {
     "name": "stderr",
     "output_type": "stream",
     "text": [
      "Using TensorFlow backend.\n"
     ]
    },
    {
     "name": "stdout",
     "output_type": "stream",
     "text": [
      "Shape of x_train: (60000, 28, 28)\n",
      "Shape of y_train: (60000,)\n",
      "Shape of x_test: (10000, 28, 28)\n",
      "Shape of y_test: (10000,)\n"
     ]
    }
   ],
   "source": [
    "from keras.datasets import mnist \n",
    "\n",
    "(x_train, y_train), (x_test, y_test) = mnist.load_data()\n",
    "\n",
    "print('Shape of x_train: ' + str(x_train.shape))\n",
    "print('Shape of y_train: ' + str(y_train.shape))\n",
    "print('Shape of x_test: ' + str(x_test.shape))\n",
    "print('Shape of y_test: ' + str(y_test.shape))"
   ]
  },
  {
   "cell_type": "markdown",
   "metadata": {},
   "source": [
    "2. Convert the 28x28 images to 784-dim vectors "
   ]
  },
  {
   "cell_type": "code",
   "execution_count": 2,
   "metadata": {},
   "outputs": [
    {
     "name": "stdout",
     "output_type": "stream",
     "text": [
      "Shape of x_train_vec is (60000, 784)\n",
      "Shape of x_test_vec is (10000, 784)\n"
     ]
    }
   ],
   "source": [
    "x_train_vec = x_train.reshape(60000,784)\n",
    "x_test_vec = x_test.reshape(10000,784)\n",
    "\n",
    "print('Shape of x_train_vec is ' + str(x_train_vec.shape))\n",
    "print('Shape of x_test_vec is ' + str(x_test_vec.shape))"
   ]
  },
  {
   "cell_type": "markdown",
   "metadata": {},
   "source": [
    "3. One-hot encode: convert the labels to 10-dim vectors"
   ]
  },
  {
   "cell_type": "code",
   "execution_count": 3,
   "metadata": {},
   "outputs": [
    {
     "name": "stdout",
     "output_type": "stream",
     "text": [
      "Shape of y_train_vec is (60000, 10)\n",
      "Shape of y_test_vec is (10000, 10)\n"
     ]
    }
   ],
   "source": [
    "import numpy as np\n",
    "\n",
    "def to_one_hot(labels, dimension=10):\n",
    "    results = np.zeros((len(labels), dimension))\n",
    "    for i, label in enumerate(labels):\n",
    "        results[i, label] = 1.\n",
    "    return results\n",
    "\n",
    "y_train_vec = to_one_hot(y_train)\n",
    "y_test_vec = to_one_hot(y_test)\n",
    "\n",
    "print('Shape of y_train_vec is ' + str(y_train_vec.shape))\n",
    "print('Shape of y_test_vec is ' + str(y_test_vec.shape))"
   ]
  },
  {
   "cell_type": "markdown",
   "metadata": {},
   "source": [
    "4. Partition the training set to training and validation sets"
   ]
  },
  {
   "cell_type": "code",
   "execution_count": 4,
   "metadata": {},
   "outputs": [
    {
     "name": "stdout",
     "output_type": "stream",
     "text": [
      "Shape of x_valid_vec: (10000, 784)\n",
      "Shape of y_valid_vec: (10000, 10)\n",
      "Shape of x_train_vec: (50000, 784)\n",
      "Shape of y_train_vec: (50000, 10)\n"
     ]
    }
   ],
   "source": [
    "rand_indices = np.random.permutation(60000)\n",
    "train_indices = rand_indices[0:50000]\n",
    "valid_indices = rand_indices[50000:60000]\n",
    "\n",
    "x_valid_vec = x_train_vec[valid_indices, : ]\n",
    "y_valid_vec = y_train_vec[valid_indices, : ]\n",
    "\n",
    "x_train_vec = x_train_vec[train_indices, : ]\n",
    "y_train_vec = y_train_vec[train_indices, : ]\n",
    "\n",
    "print('Shape of x_valid_vec: ' + str(x_valid_vec.shape))\n",
    "print('Shape of y_valid_vec: ' + str(y_valid_vec.shape))\n",
    "print('Shape of x_train_vec: ' + str(x_train_vec.shape))\n",
    "print('Shape of y_train_vec: ' + str(y_train_vec.shape))"
   ]
  },
  {
   "cell_type": "markdown",
   "metadata": {},
   "source": [
    "## Build the Neural Network"
   ]
  },
  {
   "cell_type": "code",
   "execution_count": 6,
   "metadata": {},
   "outputs": [
    {
     "name": "stdout",
     "output_type": "stream",
     "text": [
      "_________________________________________________________________\n",
      "Layer (type)                 Output Shape              Param #   \n",
      "=================================================================\n",
      "dense_4 (Dense)              (None, 500)               392500    \n",
      "_________________________________________________________________\n",
      "dense_5 (Dense)              (None, 500)               250500    \n",
      "_________________________________________________________________\n",
      "dense_6 (Dense)              (None, 10)                5010      \n",
      "=================================================================\n",
      "Total params: 648,010\n",
      "Trainable params: 648,010\n",
      "Non-trainable params: 0\n",
      "_________________________________________________________________\n"
     ]
    }
   ],
   "source": [
    "import os\n",
    "os.environ['TF_CPP_MIN_LOG_LEVEL'] = '3'\n",
    "import tensorflow as tf\n",
    "tf.compat.v1.logging.set_verbosity(tf.compat.v1.logging.ERROR)\n",
    "\n",
    "from keras import models\n",
    "from keras import layers \n",
    "\n",
    "d1 = 500\n",
    "d2 = 500\n",
    "\n",
    "model = models.Sequential()\n",
    "model.add(layers.Dense(d1, activation='relu', input_shape=(784,)))\n",
    "model.add(layers.Dense(d2, activation='relu'))\n",
    "model.add(layers.Dense(10, activation='softmax'))\n",
    "\n",
    "model.summary()"
   ]
  },
  {
   "cell_type": "markdown",
   "metadata": {},
   "source": [
    "## Train the Neural Network"
   ]
  },
  {
   "cell_type": "code",
   "execution_count": 7,
   "metadata": {},
   "outputs": [
    {
     "name": "stdout",
     "output_type": "stream",
     "text": [
      "Train on 50000 samples, validate on 10000 samples\n",
      "Epoch 1/50\n",
      "50000/50000 [==============================] - 5s 93us/step - loss: 3.1339 - acc: 0.7824 - val_loss: 1.4979 - val_acc: 0.8890\n",
      "Epoch 2/50\n",
      "50000/50000 [==============================] - 4s 82us/step - loss: 1.1201 - acc: 0.9176 - val_loss: 1.0347 - val_acc: 0.9229\n",
      "Epoch 3/50\n",
      "50000/50000 [==============================] - 4s 85us/step - loss: 0.9034 - acc: 0.9340 - val_loss: 0.8656 - val_acc: 0.9364\n",
      "Epoch 4/50\n",
      "50000/50000 [==============================] - 4s 85us/step - loss: 0.7455 - acc: 0.9448 - val_loss: 0.7351 - val_acc: 0.9458\n",
      "Epoch 5/50\n",
      "50000/50000 [==============================] - 4s 85us/step - loss: 0.6368 - acc: 0.9526 - val_loss: 0.6917 - val_acc: 0.9483\n",
      "Epoch 6/50\n",
      "50000/50000 [==============================] - 4s 87us/step - loss: 0.5795 - acc: 0.9574 - val_loss: 0.6642 - val_acc: 0.9511\n",
      "Epoch 7/50\n",
      "50000/50000 [==============================] - 4s 89us/step - loss: 0.5248 - acc: 0.9609 - val_loss: 0.6194 - val_acc: 0.9546\n",
      "Epoch 8/50\n",
      "50000/50000 [==============================] - 5s 91us/step - loss: 0.4405 - acc: 0.9668 - val_loss: 0.5724 - val_acc: 0.9568\n",
      "Epoch 9/50\n",
      "50000/50000 [==============================] - 5s 93us/step - loss: 0.3962 - acc: 0.9705 - val_loss: 0.5896 - val_acc: 0.9539\n",
      "Epoch 10/50\n",
      "50000/50000 [==============================] - 5s 93us/step - loss: 0.3768 - acc: 0.9721 - val_loss: 0.6206 - val_acc: 0.9529\n",
      "Epoch 11/50\n",
      "50000/50000 [==============================] - 5s 96us/step - loss: 0.3510 - acc: 0.9737 - val_loss: 0.5539 - val_acc: 0.9579\n",
      "Epoch 12/50\n",
      "50000/50000 [==============================] - 5s 93us/step - loss: 0.3246 - acc: 0.9763 - val_loss: 0.4712 - val_acc: 0.9639\n",
      "Epoch 13/50\n",
      "50000/50000 [==============================] - 5s 93us/step - loss: 0.2860 - acc: 0.9787 - val_loss: 0.4713 - val_acc: 0.9656\n",
      "Epoch 14/50\n",
      "50000/50000 [==============================] - 5s 92us/step - loss: 0.2714 - acc: 0.9796 - val_loss: 0.4999 - val_acc: 0.9623\n",
      "Epoch 15/50\n",
      "50000/50000 [==============================] - 5s 94us/step - loss: 0.2589 - acc: 0.9807 - val_loss: 0.4613 - val_acc: 0.9646\n",
      "Epoch 16/50\n",
      "50000/50000 [==============================] - 5s 94us/step - loss: 0.2393 - acc: 0.9818 - val_loss: 0.4782 - val_acc: 0.9636\n",
      "Epoch 17/50\n",
      "50000/50000 [==============================] - 5s 92us/step - loss: 0.2268 - acc: 0.9828 - val_loss: 0.4372 - val_acc: 0.9667\n",
      "Epoch 18/50\n",
      "50000/50000 [==============================] - 5s 92us/step - loss: 0.2161 - acc: 0.9838 - val_loss: 0.4484 - val_acc: 0.9653\n",
      "Epoch 19/50\n",
      "50000/50000 [==============================] - 5s 94us/step - loss: 0.1945 - acc: 0.9853 - val_loss: 0.4356 - val_acc: 0.9662\n",
      "Epoch 20/50\n",
      "50000/50000 [==============================] - 5s 94us/step - loss: 0.1929 - acc: 0.9855 - val_loss: 0.4506 - val_acc: 0.9657\n",
      "Epoch 21/50\n",
      "50000/50000 [==============================] - 5s 93us/step - loss: 0.1789 - acc: 0.9866 - val_loss: 0.4540 - val_acc: 0.9662\n",
      "Epoch 22/50\n",
      "50000/50000 [==============================] - 5s 93us/step - loss: 0.1729 - acc: 0.9868 - val_loss: 0.4202 - val_acc: 0.9688\n",
      "Epoch 23/50\n",
      "50000/50000 [==============================] - 5s 95us/step - loss: 0.1618 - acc: 0.9876 - val_loss: 0.3787 - val_acc: 0.9714\n",
      "Epoch 24/50\n",
      "50000/50000 [==============================] - 5s 94us/step - loss: 0.1592 - acc: 0.9884 - val_loss: 0.4078 - val_acc: 0.9685\n",
      "Epoch 25/50\n",
      "50000/50000 [==============================] - 5s 94us/step - loss: 0.1504 - acc: 0.9886 - val_loss: 0.3941 - val_acc: 0.9702\n",
      "Epoch 26/50\n",
      "50000/50000 [==============================] - 5s 94us/step - loss: 0.1415 - acc: 0.9894 - val_loss: 0.3897 - val_acc: 0.9698\n",
      "Epoch 27/50\n",
      "50000/50000 [==============================] - 5s 95us/step - loss: 0.1375 - acc: 0.9894 - val_loss: 0.3764 - val_acc: 0.9705\n",
      "Epoch 28/50\n",
      "50000/50000 [==============================] - 5s 93us/step - loss: 0.1321 - acc: 0.9903 - val_loss: 0.3856 - val_acc: 0.9710\n",
      "Epoch 29/50\n",
      "50000/50000 [==============================] - 5s 94us/step - loss: 0.1282 - acc: 0.9906 - val_loss: 0.4397 - val_acc: 0.9672\n",
      "Epoch 30/50\n",
      "50000/50000 [==============================] - 5s 93us/step - loss: 0.1240 - acc: 0.9909 - val_loss: 0.4078 - val_acc: 0.9698\n",
      "Epoch 31/50\n",
      "50000/50000 [==============================] - 5s 94us/step - loss: 0.1242 - acc: 0.9909 - val_loss: 0.3809 - val_acc: 0.9723\n",
      "Epoch 32/50\n",
      "50000/50000 [==============================] - 5s 94us/step - loss: 0.1205 - acc: 0.9911 - val_loss: 0.3601 - val_acc: 0.9721\n",
      "Epoch 33/50\n",
      "50000/50000 [==============================] - 5s 96us/step - loss: 0.1140 - acc: 0.9917 - val_loss: 0.3452 - val_acc: 0.9733\n",
      "Epoch 34/50\n",
      "50000/50000 [==============================] - 5s 95us/step - loss: 0.1126 - acc: 0.9920 - val_loss: 0.3615 - val_acc: 0.9713\n",
      "Epoch 35/50\n",
      "50000/50000 [==============================] - 5s 94us/step - loss: 0.1104 - acc: 0.9920 - val_loss: 0.3658 - val_acc: 0.9719\n",
      "Epoch 36/50\n",
      "50000/50000 [==============================] - 5s 96us/step - loss: 0.1048 - acc: 0.9924 - val_loss: 0.3686 - val_acc: 0.9717\n",
      "Epoch 37/50\n",
      "50000/50000 [==============================] - 5s 99us/step - loss: 0.1026 - acc: 0.9925 - val_loss: 0.4055 - val_acc: 0.9696\n",
      "Epoch 38/50\n",
      "50000/50000 [==============================] - 5s 99us/step - loss: 0.0966 - acc: 0.9930 - val_loss: 0.3607 - val_acc: 0.9727\n",
      "Epoch 39/50\n",
      "50000/50000 [==============================] - 5s 100us/step - loss: 0.0933 - acc: 0.9934 - val_loss: 0.3796 - val_acc: 0.9714\n",
      "Epoch 40/50\n",
      "50000/50000 [==============================] - 5s 101us/step - loss: 0.0954 - acc: 0.9932 - val_loss: 0.3616 - val_acc: 0.9728\n",
      "Epoch 41/50\n",
      "50000/50000 [==============================] - 5s 101us/step - loss: 0.0937 - acc: 0.9933 - val_loss: 0.3679 - val_acc: 0.9727\n",
      "Epoch 42/50\n",
      "50000/50000 [==============================] - 5s 100us/step - loss: 0.0875 - acc: 0.9939 - val_loss: 0.3511 - val_acc: 0.9738\n",
      "Epoch 43/50\n",
      "50000/50000 [==============================] - 5s 97us/step - loss: 0.0881 - acc: 0.9938 - val_loss: 0.3260 - val_acc: 0.9749\n",
      "Epoch 44/50\n",
      "50000/50000 [==============================] - 5s 94us/step - loss: 0.0878 - acc: 0.9936 - val_loss: 0.3729 - val_acc: 0.9719\n",
      "Epoch 45/50\n",
      "50000/50000 [==============================] - 5s 94us/step - loss: 0.0863 - acc: 0.9940 - val_loss: 0.3822 - val_acc: 0.9701\n",
      "Epoch 46/50\n",
      "50000/50000 [==============================] - 5s 96us/step - loss: 0.0864 - acc: 0.9939 - val_loss: 0.3591 - val_acc: 0.9728\n",
      "Epoch 47/50\n",
      "50000/50000 [==============================] - 5s 99us/step - loss: 0.0842 - acc: 0.9943 - val_loss: 0.3354 - val_acc: 0.9748\n",
      "Epoch 48/50\n",
      "50000/50000 [==============================] - 5s 100us/step - loss: 0.0799 - acc: 0.9945 - val_loss: 0.3467 - val_acc: 0.9732\n",
      "Epoch 49/50\n",
      "50000/50000 [==============================] - 5s 103us/step - loss: 0.0810 - acc: 0.9941 - val_loss: 0.3564 - val_acc: 0.9724\n",
      "Epoch 50/50\n",
      "50000/50000 [==============================] - 5s 98us/step - loss: 0.0785 - acc: 0.9945 - val_loss: 0.3601 - val_acc: 0.9731\n"
     ]
    }
   ],
   "source": [
    "from keras import optimizers \n",
    "\n",
    "# optimization algorithm, learning rate, loss function, metrix\n",
    "model.compile(optimizers.RMSprop(lr=0.0001), loss='categorical_crossentropy', metrics=['accuracy'])\n",
    "\n",
    "# batch size, number of epochs\n",
    "history = model.fit(x_train_vec, y_train_vec, batch_size=128, epochs=50, validation_data=(x_valid_vec, y_valid_vec))"
   ]
  },
  {
   "cell_type": "markdown",
   "metadata": {},
   "source": [
    "## Examine the Results\n",
    "\n",
    "1. Plot the accuracy against epochs"
   ]
  },
  {
   "cell_type": "code",
   "execution_count": 1,
   "metadata": {},
   "outputs": [
    {
     "ename": "NameError",
     "evalue": "name 'history' is not defined",
     "output_type": "error",
     "traceback": [
      "\u001b[0;31m---------------------------------------------------------------------------\u001b[0m",
      "\u001b[0;31mNameError\u001b[0m                                 Traceback (most recent call last)",
      "\u001b[0;32m<ipython-input-1-35f9932d4c92>\u001b[0m in \u001b[0;36m<module>\u001b[0;34m\u001b[0m\n\u001b[1;32m      3\u001b[0m \u001b[0;34m\u001b[0m\u001b[0m\n\u001b[1;32m      4\u001b[0m \u001b[0mepochs\u001b[0m \u001b[0;34m=\u001b[0m \u001b[0mrange\u001b[0m\u001b[0;34m(\u001b[0m\u001b[0;36m50\u001b[0m\u001b[0;34m)\u001b[0m\u001b[0;34m\u001b[0m\u001b[0;34m\u001b[0m\u001b[0m\n\u001b[0;32m----> 5\u001b[0;31m \u001b[0mtrain_acc\u001b[0m \u001b[0;34m=\u001b[0m \u001b[0mhistory\u001b[0m\u001b[0;34m.\u001b[0m\u001b[0mhistory\u001b[0m\u001b[0;34m[\u001b[0m\u001b[0;34m'acc'\u001b[0m\u001b[0;34m]\u001b[0m\u001b[0;34m\u001b[0m\u001b[0;34m\u001b[0m\u001b[0m\n\u001b[0m\u001b[1;32m      6\u001b[0m \u001b[0mvalid_acc\u001b[0m \u001b[0;34m=\u001b[0m \u001b[0mhistory\u001b[0m\u001b[0;34m.\u001b[0m\u001b[0mhistory\u001b[0m\u001b[0;34m[\u001b[0m\u001b[0;34m'val_acc'\u001b[0m\u001b[0;34m]\u001b[0m\u001b[0;34m\u001b[0m\u001b[0;34m\u001b[0m\u001b[0m\n\u001b[1;32m      7\u001b[0m \u001b[0mplt\u001b[0m\u001b[0;34m.\u001b[0m\u001b[0mplot\u001b[0m\u001b[0;34m(\u001b[0m\u001b[0mepochs\u001b[0m\u001b[0;34m,\u001b[0m \u001b[0mtrain_acc\u001b[0m\u001b[0;34m,\u001b[0m \u001b[0;34m'bo'\u001b[0m\u001b[0;34m,\u001b[0m \u001b[0mlabel\u001b[0m\u001b[0;34m=\u001b[0m\u001b[0;34m'Training Accuracy'\u001b[0m\u001b[0;34m)\u001b[0m\u001b[0;34m\u001b[0m\u001b[0;34m\u001b[0m\u001b[0m\n",
      "\u001b[0;31mNameError\u001b[0m: name 'history' is not defined"
     ]
    }
   ],
   "source": [
    "import matplotlib.pyplot as plt\n",
    "%matplotlib inline\n",
    "\n",
    "epochs = range(50)\n",
    "train_acc = history.history['acc']\n",
    "valid_acc = history.history['val_acc']\n",
    "plt.plot(epochs, train_acc, 'bo', label='Training Accuracy')\n",
    "plt.plot(epochs, valid_acc, 'r', label='Validation Accuracy')\n",
    "plt.xlabel('Epochs')\n",
    "plt.ylabel('Accuracy')\n",
    "plt.legend()\n",
    "plt.show()"
   ]
  },
  {
   "cell_type": "markdown",
   "metadata": {},
   "source": [
    "2. Evaluate the model on the test set"
   ]
  },
  {
   "cell_type": "code",
   "execution_count": null,
   "metadata": {},
   "outputs": [],
   "source": [
    "loss_and_acc = model.evaluate(x_test_vec, y_test_vec)\n",
    "print('loss = ' + str(loss_and_acc[0]))\n",
    "print('accuracy = ' + str(loss_and_acc[1]))"
   ]
  }
 ],
 "metadata": {
  "kernelspec": {
   "display_name": "Python 3",
   "language": "python",
   "name": "python3"
  },
  "language_info": {
   "codemirror_mode": {
    "name": "ipython",
    "version": 3
   },
   "file_extension": ".py",
   "mimetype": "text/x-python",
   "name": "python",
   "nbconvert_exporter": "python",
   "pygments_lexer": "ipython3",
   "version": "3.7.4"
  }
 },
 "nbformat": 4,
 "nbformat_minor": 2
}
