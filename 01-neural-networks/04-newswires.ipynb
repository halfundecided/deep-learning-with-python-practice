{
 "cells": [
  {
   "cell_type": "markdown",
   "metadata": {},
   "source": [
    "# Classifying Newswires\n",
    "## Multi-class classification"
   ]
  },
  {
   "cell_type": "markdown",
   "metadata": {},
   "source": [
    "## Loading the Reuters dataset\n",
    "1. Loading the Reuters dataset"
   ]
  },
  {
   "cell_type": "code",
   "execution_count": 2,
   "metadata": {},
   "outputs": [],
   "source": [
    "from keras.datasets import reuters\n",
    "\n",
    "(train_data, train_labels), (test_data, test_labels) = reuters.load_data(num_words=10000)"
   ]
  },
  {
   "cell_type": "markdown",
   "metadata": {},
   "source": [
    "2. Encoding the data"
   ]
  },
  {
   "cell_type": "code",
   "execution_count": 6,
   "metadata": {},
   "outputs": [],
   "source": [
    "import numpy as np \n",
    "\n",
    "def vectorize_sequences(sequences, dimension=10000):\n",
    "    # Creates an all-zero matrix of shape (len(sequences), dimension)\n",
    "    results = np.zeros((len(sequences), dimension))\n",
    "    for i, sequence in enumerate(sequences):\n",
    "        # Sets specific indices of results[i] to 1s\n",
    "        results[i, sequence] = 1.\n",
    "    return results \n",
    "\n",
    "x_train = vectorize_sequences(train_data)\n",
    "x_test = vectorize_sequences(test_data)\n",
    "\n",
    "def to_one_hot(labels, dimension=46):\n",
    "    results = np.zeros((len(labels), dimension))\n",
    "    for i, label in enumerate(labels):\n",
    "        results[i, label] = 1.\n",
    "    return results\n",
    "\n",
    "y_train_vec = to_one_hot(train_labels)\n",
    "y_test_vec = to_one_hot(test_labels)"
   ]
  },
  {
   "cell_type": "markdown",
   "metadata": {},
   "source": [
    "3. Partition the training set to training and validation sets"
   ]
  },
  {
   "cell_type": "code",
   "execution_count": 7,
   "metadata": {},
   "outputs": [],
   "source": [
    "x_val = x_train[:1000]\n",
    "partial_x_train = x_train[1000:]\n",
    "\n",
    "y_val = y_train_vec[:1000]\n",
    "partial_y_train = y_train_vec[1000:]"
   ]
  },
  {
   "cell_type": "markdown",
   "metadata": {},
   "source": [
    "## Build the Model"
   ]
  },
  {
   "cell_type": "code",
   "execution_count": 12,
   "metadata": {},
   "outputs": [
    {
     "name": "stdout",
     "output_type": "stream",
     "text": [
      "_________________________________________________________________\n",
      "Layer (type)                 Output Shape              Param #   \n",
      "=================================================================\n",
      "dense_7 (Dense)              (None, 64)                640064    \n",
      "_________________________________________________________________\n",
      "dense_8 (Dense)              (None, 64)                4160      \n",
      "_________________________________________________________________\n",
      "dense_9 (Dense)              (None, 46)                2990      \n",
      "=================================================================\n",
      "Total params: 647,214\n",
      "Trainable params: 647,214\n",
      "Non-trainable params: 0\n",
      "_________________________________________________________________\n"
     ]
    }
   ],
   "source": [
    "import os\n",
    "os.environ['TF_CPP_MIN_LOG_LEVEL'] = '3'\n",
    "import tensorflow as tf\n",
    "tf.compat.v1.logging.set_verbosity(tf.compat.v1.logging.ERROR)\n",
    "\n",
    "from keras import models\n",
    "from keras import layers \n",
    "\n",
    "d1 = 64\n",
    "d2 = 64\n",
    "\n",
    "model = models.Sequential()\n",
    "model.add(layers.Dense(d1, activation='relu', input_shape=(10000,)))\n",
    "model.add(layers.Dense(d2, activation='relu'))\n",
    "model.add(layers.Dense(46, activation='softmax'))\n",
    "\n",
    "model.summary()"
   ]
  },
  {
   "cell_type": "markdown",
   "metadata": {},
   "source": [
    "## Train the model"
   ]
  },
  {
   "cell_type": "code",
   "execution_count": 18,
   "metadata": {},
   "outputs": [
    {
     "name": "stdout",
     "output_type": "stream",
     "text": [
      "Train on 7982 samples, validate on 1000 samples\n",
      "Epoch 1/9\n",
      "7982/7982 [==============================] - 1s 171us/step - loss: 0.0874 - acc: 0.9573 - val_loss: 1.4564 - val_acc: 0.7740\n",
      "Epoch 2/9\n",
      "7982/7982 [==============================] - 0s 62us/step - loss: 0.0703 - acc: 0.9575 - val_loss: 1.5164 - val_acc: 0.7730\n",
      "Epoch 3/9\n",
      "7982/7982 [==============================] - 0s 62us/step - loss: 0.0693 - acc: 0.9592 - val_loss: 1.4842 - val_acc: 0.7830\n",
      "Epoch 4/9\n",
      "7982/7982 [==============================] - 0s 63us/step - loss: 0.0688 - acc: 0.9580 - val_loss: 1.5483 - val_acc: 0.7710\n",
      "Epoch 5/9\n",
      "7982/7982 [==============================] - 1s 63us/step - loss: 0.0688 - acc: 0.9583 - val_loss: 1.5487 - val_acc: 0.7750\n",
      "Epoch 6/9\n",
      "7982/7982 [==============================] - 1s 64us/step - loss: 0.0676 - acc: 0.9602 - val_loss: 1.5437 - val_acc: 0.7720\n",
      "Epoch 7/9\n",
      "7982/7982 [==============================] - 1s 64us/step - loss: 0.0670 - acc: 0.9578 - val_loss: 1.5413 - val_acc: 0.7790\n",
      "Epoch 8/9\n",
      "7982/7982 [==============================] - 1s 64us/step - loss: 0.0663 - acc: 0.9600 - val_loss: 1.5768 - val_acc: 0.7710\n",
      "Epoch 9/9\n",
      "7982/7982 [==============================] - 1s 63us/step - loss: 0.0676 - acc: 0.9599 - val_loss: 1.5985 - val_acc: 0.7760\n"
     ]
    }
   ],
   "source": [
    "from keras import optimizers\n",
    "\n",
    "# optimization algorithm, learning rate, loss function, metrix\n",
    "model.compile(optimizer='rmsprop', loss='categorical_crossentropy', metrics=['accuracy'])\n",
    "\n",
    "# batch size, number of epochs\n",
    "history = model.fit(partial_x_train, partial_y_train, batch_size=512, epochs=9, validation_data=(x_val, y_val))"
   ]
  },
  {
   "cell_type": "markdown",
   "metadata": {},
   "source": [
    "## Examine the Results\n",
    "\n",
    "1. Plot the training and validation loss against epochs"
   ]
  },
  {
   "cell_type": "code",
   "execution_count": 19,
   "metadata": {},
   "outputs": [
    {
     "data": {
      "image/png": "[encoded data removed]",
      "text/plain": [
       "<Figure size 432x288 with 1 Axes>"
      ]
     },
     "metadata": {
      "needs_background": "light"
     },
     "output_type": "display_data"
    }
   ],
   "source": [
    "import matplotlib.pyplot as plt\n",
    "\n",
    "loss = history.history['loss']\n",
    "val_loss = history.history['val_loss']\n",
    "\n",
    "epochs = range(1, len(loss) + 1)\n",
    "\n",
    "plt.plot(epochs, loss, 'bo', label='Training Loss')\n",
    "plt.plot(epochs, val_loss, 'b', label='Validation Loss')\n",
    "plt.title('Training and validation loss')\n",
    "plt.xlabel('Epochs')\n",
    "plt.ylabel('Loss')\n",
    "plt.legend()\n",
    "plt.show()"
   ]
  },
  {
   "cell_type": "markdown",
   "metadata": {},
   "source": [
    "2. Plot the training and validation accuracy agains epochs"
   ]
  },
  {
   "cell_type": "code",
   "execution_count": 20,
   "metadata": {},
   "outputs": [
    {
     "data": {
      "image/png": "[encoded data removed]",
      "text/plain": [
       "<Figure size 432x288 with 1 Axes>"
      ]
     },
     "metadata": {
      "needs_background": "light"
     },
     "output_type": "display_data"
    }
   ],
   "source": [
    "plt.clf()\n",
    "\n",
    "acc = history.history['acc']\n",
    "epochs = range(1, len(acc) + 1)\n",
    "\n",
    "train_acc = history.history['acc']\n",
    "valid_acc = history.history['val_acc']\n",
    "plt.plot(epochs, train_acc, 'bo', label='Training Accuracy')\n",
    "plt.plot(epochs, valid_acc, 'b', label='Validation Accuracy')\n",
    "plt.title('Training and validation accuracy')\n",
    "plt.xlabel('Epochs')\n",
    "plt.ylabel('Loss')\n",
    "plt.legend()\n",
    "plt.show()"
   ]
  },
  {
   "cell_type": "code",
   "execution_count": null,
   "metadata": {},
   "outputs": [],
   "source": []
  }
 ],
 "metadata": {
  "kernelspec": {
   "display_name": "Python 3",
   "language": "python",
   "name": "python3"
  },
  "language_info": {
   "codemirror_mode": {
    "name": "ipython",
    "version": 3
   },
   "file_extension": ".py",
   "mimetype": "text/x-python",
   "name": "python",
   "nbconvert_exporter": "python",
   "pygments_lexer": "ipython3",
   "version": "3.7.4"
  }
 },
 "nbformat": 4,
 "nbformat_minor": 2
}
