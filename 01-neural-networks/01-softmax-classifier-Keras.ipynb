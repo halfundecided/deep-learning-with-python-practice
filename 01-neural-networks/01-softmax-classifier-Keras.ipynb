{
 "cells": [
  {
   "cell_type": "markdown",
   "metadata": {},
   "source": [
    "# Implement a Softmax Classifier Using Keras "
   ]
  },
  {
   "cell_type": "markdown",
   "metadata": {},
   "source": [
    "## Load and Process the MNIST Dataset\n",
    "\n",
    "1. Load data"
   ]
  },
  {
   "cell_type": "code",
   "execution_count": 1,
   "metadata": {},
   "outputs": [
    {
     "name": "stderr",
     "output_type": "stream",
     "text": [
      "Using TensorFlow backend.\n"
     ]
    },
    {
     "name": "stdout",
     "output_type": "stream",
     "text": [
      "Shape of x_train: (60000, 28, 28)\n",
      "Shape of y_train: (60000,)\n",
      "Shape of x_test: (10000, 28, 28)\n",
      "Shape of y_test: (10000,)\n"
     ]
    }
   ],
   "source": [
    "from keras.datasets import mnist \n",
    "\n",
    "(x_train, y_train), (x_test, y_test) = mnist.load_data()\n",
    "\n",
    "print('Shape of x_train: ' + str(x_train.shape))\n",
    "print('Shape of y_train: ' + str(y_train.shape))\n",
    "print('Shape of x_test: ' + str(x_test.shape))\n",
    "print('Shape of y_test: ' + str(y_test.shape))"
   ]
  },
  {
   "cell_type": "markdown",
   "metadata": {},
   "source": [
    "2. Convert the 28x28 images to 784-dim vectors "
   ]
  },
  {
   "cell_type": "code",
   "execution_count": 2,
   "metadata": {},
   "outputs": [
    {
     "name": "stdout",
     "output_type": "stream",
     "text": [
      "Shape of x_train_vec is (60000, 784)\n",
      "Shape of x_test_vec is (10000, 784)\n"
     ]
    }
   ],
   "source": [
    "x_train_vec = x_train.reshape(60000,784)\n",
    "x_test_vec = x_test.reshape(10000,784)\n",
    "\n",
    "print('Shape of x_train_vec is ' + str(x_train_vec.shape))\n",
    "print('Shape of x_test_vec is ' + str(x_test_vec.shape))"
   ]
  },
  {
   "cell_type": "markdown",
   "metadata": {},
   "source": [
    "3. One-hot encode: convert the labels to 10-dim vectors"
   ]
  },
  {
   "cell_type": "code",
   "execution_count": 3,
   "metadata": {},
   "outputs": [
    {
     "name": "stdout",
     "output_type": "stream",
     "text": [
      "Shape of y_train_vec is (60000, 10)\n",
      "Shape of y_test_vec is (10000, 10)\n"
     ]
    }
   ],
   "source": [
    "import numpy as np\n",
    "\n",
    "def to_one_hot(labels, dimension=10):\n",
    "    results = np.zeros((len(labels), dimension))\n",
    "    for i, label in enumerate(labels):\n",
    "        results[i, label] = 1.\n",
    "    return results\n",
    "\n",
    "y_train_vec = to_one_hot(y_train)\n",
    "y_test_vec = to_one_hot(y_test)\n",
    "\n",
    "print('Shape of y_train_vec is ' + str(y_train_vec.shape))\n",
    "print('Shape of y_test_vec is ' + str(y_test_vec.shape))"
   ]
  },
  {
   "cell_type": "markdown",
   "metadata": {},
   "source": [
    "4. Partition the training set to training and validation sets"
   ]
  },
  {
   "cell_type": "code",
   "execution_count": 4,
   "metadata": {},
   "outputs": [
    {
     "name": "stdout",
     "output_type": "stream",
     "text": [
      "Shape of x_valid_vec: (10000, 784)\n",
      "Shape of y_valid_vec: (10000, 10)\n",
      "Shape of x_train_vec: (50000, 784)\n",
      "Shape of y_train_vec: (50000, 10)\n"
     ]
    }
   ],
   "source": [
    "rand_indices = np.random.permutation(60000)\n",
    "train_indices = rand_indices[0:50000]\n",
    "valid_indices = rand_indices[50000:60000]\n",
    "\n",
    "x_valid_vec = x_train_vec[valid_indices, : ]\n",
    "y_valid_vec = y_train_vec[valid_indices, : ]\n",
    "\n",
    "x_train_vec = x_train_vec[train_indices, : ]\n",
    "y_train_vec = y_train_vec[train_indices, : ]\n",
    "\n",
    "print('Shape of x_valid_vec: ' + str(x_valid_vec.shape))\n",
    "print('Shape of y_valid_vec: ' + str(y_valid_vec.shape))\n",
    "print('Shape of x_train_vec: ' + str(x_train_vec.shape))\n",
    "print('Shape of y_train_vec: ' + str(y_train_vec.shape))"
   ]
  },
  {
   "cell_type": "markdown",
   "metadata": {},
   "source": [
    "## Build the Softmax Classifier"
   ]
  },
  {
   "cell_type": "code",
   "execution_count": 5,
   "metadata": {},
   "outputs": [
    {
     "name": "stdout",
     "output_type": "stream",
     "text": [
      "_________________________________________________________________\n",
      "Layer (type)                 Output Shape              Param #   \n",
      "=================================================================\n",
      "dense_1 (Dense)              (None, 10)                7850      \n",
      "=================================================================\n",
      "Total params: 7,850\n",
      "Trainable params: 7,850\n",
      "Non-trainable params: 0\n",
      "_________________________________________________________________\n"
     ]
    }
   ],
   "source": [
    "import os\n",
    "os.environ['TF_CPP_MIN_LOG_LEVEL'] = '3'\n",
    "import tensorflow as tf\n",
    "tf.compat.v1.logging.set_verbosity(tf.compat.v1.logging.ERROR)\n",
    "\n",
    "from keras import models \n",
    "from keras import layers \n",
    "\n",
    "model = models.Sequential()\n",
    "model.add(layers.Dense(10, activation='softmax', input_shape=(784,)))\n",
    "\n",
    "model.summary()"
   ]
  },
  {
   "cell_type": "markdown",
   "metadata": {},
   "source": [
    "## Train the Softmax Classifier"
   ]
  },
  {
   "cell_type": "code",
   "execution_count": 6,
   "metadata": {},
   "outputs": [
    {
     "name": "stdout",
     "output_type": "stream",
     "text": [
      "Train on 50000 samples, validate on 10000 samples\n",
      "Epoch 1/50\n",
      "50000/50000 [==============================] - 2s 31us/step - loss: 12.0947 - acc: 0.2383 - val_loss: 10.2375 - val_acc: 0.3550\n",
      "Epoch 2/50\n",
      "50000/50000 [==============================] - 1s 21us/step - loss: 9.5582 - acc: 0.3995 - val_loss: 8.9947 - val_acc: 0.4341\n",
      "Epoch 3/50\n",
      "50000/50000 [==============================] - 1s 21us/step - loss: 8.7002 - acc: 0.4522 - val_loss: 8.0774 - val_acc: 0.4909\n",
      "Epoch 4/50\n",
      "50000/50000 [==============================] - 1s 21us/step - loss: 7.9065 - acc: 0.5021 - val_loss: 7.5569 - val_acc: 0.5241\n",
      "Epoch 5/50\n",
      "50000/50000 [==============================] - 1s 21us/step - loss: 7.5846 - acc: 0.5228 - val_loss: 7.3183 - val_acc: 0.5405\n",
      "Epoch 6/50\n",
      "50000/50000 [==============================] - 1s 21us/step - loss: 7.3962 - acc: 0.5357 - val_loss: 7.1553 - val_acc: 0.5502\n",
      "Epoch 7/50\n",
      "50000/50000 [==============================] - 1s 22us/step - loss: 7.2506 - acc: 0.5444 - val_loss: 6.9546 - val_acc: 0.5615\n",
      "Epoch 8/50\n",
      "50000/50000 [==============================] - 1s 21us/step - loss: 6.7684 - acc: 0.5718 - val_loss: 6.2706 - val_acc: 0.6019\n",
      "Epoch 9/50\n",
      "50000/50000 [==============================] - 1s 21us/step - loss: 6.0465 - acc: 0.6173 - val_loss: 5.7896 - val_acc: 0.6349\n",
      "Epoch 10/50\n",
      "50000/50000 [==============================] - 1s 22us/step - loss: 5.8103 - acc: 0.6337 - val_loss: 5.6898 - val_acc: 0.6413\n",
      "Epoch 11/50\n",
      "50000/50000 [==============================] - 1s 22us/step - loss: 5.7231 - acc: 0.6400 - val_loss: 5.6103 - val_acc: 0.6460\n",
      "Epoch 12/50\n",
      "50000/50000 [==============================] - 1s 23us/step - loss: 5.6677 - acc: 0.6434 - val_loss: 5.5739 - val_acc: 0.6501\n",
      "Epoch 13/50\n",
      "50000/50000 [==============================] - 1s 23us/step - loss: 5.6322 - acc: 0.6461 - val_loss: 5.5376 - val_acc: 0.6512\n",
      "Epoch 14/50\n",
      "50000/50000 [==============================] - 1s 24us/step - loss: 5.6072 - acc: 0.6476 - val_loss: 5.5176 - val_acc: 0.6530\n",
      "Epoch 15/50\n",
      "50000/50000 [==============================] - 1s 24us/step - loss: 5.5806 - acc: 0.6494 - val_loss: 5.4855 - val_acc: 0.6539\n",
      "Epoch 16/50\n",
      "50000/50000 [==============================] - 1s 23us/step - loss: 5.5571 - acc: 0.6510 - val_loss: 5.4614 - val_acc: 0.6555\n",
      "Epoch 17/50\n",
      "50000/50000 [==============================] - 1s 23us/step - loss: 5.5291 - acc: 0.6527 - val_loss: 5.4383 - val_acc: 0.6578\n",
      "Epoch 18/50\n",
      "50000/50000 [==============================] - 1s 24us/step - loss: 5.5106 - acc: 0.6536 - val_loss: 5.4315 - val_acc: 0.6585\n",
      "Epoch 19/50\n",
      "50000/50000 [==============================] - 1s 23us/step - loss: 5.4920 - acc: 0.6554 - val_loss: 5.4375 - val_acc: 0.6571\n",
      "Epoch 20/50\n",
      "50000/50000 [==============================] - 1s 23us/step - loss: 5.4774 - acc: 0.6562 - val_loss: 5.4055 - val_acc: 0.6602\n",
      "Epoch 21/50\n",
      "50000/50000 [==============================] - 1s 23us/step - loss: 5.4589 - acc: 0.6573 - val_loss: 5.4123 - val_acc: 0.6589\n",
      "Epoch 22/50\n",
      "50000/50000 [==============================] - 1s 23us/step - loss: 5.4455 - acc: 0.6590 - val_loss: 5.4015 - val_acc: 0.6606\n",
      "Epoch 23/50\n",
      "50000/50000 [==============================] - 1s 23us/step - loss: 5.4311 - acc: 0.6594 - val_loss: 5.3912 - val_acc: 0.6614\n",
      "Epoch 24/50\n",
      "50000/50000 [==============================] - 1s 23us/step - loss: 5.4214 - acc: 0.6601 - val_loss: 5.3805 - val_acc: 0.6619\n",
      "Epoch 25/50\n",
      "50000/50000 [==============================] - 1s 23us/step - loss: 5.4091 - acc: 0.6613 - val_loss: 5.3774 - val_acc: 0.6616\n",
      "Epoch 26/50\n",
      "50000/50000 [==============================] - 1s 24us/step - loss: 5.4015 - acc: 0.6613 - val_loss: 5.3822 - val_acc: 0.6620\n",
      "Epoch 27/50\n",
      "50000/50000 [==============================] - 1s 24us/step - loss: 5.3922 - acc: 0.6620 - val_loss: 5.3782 - val_acc: 0.6624\n",
      "Epoch 28/50\n",
      "50000/50000 [==============================] - 1s 24us/step - loss: 5.3861 - acc: 0.6627 - val_loss: 5.3685 - val_acc: 0.6625\n",
      "Epoch 29/50\n",
      "50000/50000 [==============================] - 1s 24us/step - loss: 5.3740 - acc: 0.6633 - val_loss: 5.3558 - val_acc: 0.6632\n",
      "Epoch 30/50\n",
      "50000/50000 [==============================] - 1s 24us/step - loss: 5.3707 - acc: 0.6636 - val_loss: 5.3482 - val_acc: 0.6635\n",
      "Epoch 31/50\n",
      "50000/50000 [==============================] - 1s 25us/step - loss: 5.3642 - acc: 0.6641 - val_loss: 5.3579 - val_acc: 0.6637\n",
      "Epoch 32/50\n",
      "50000/50000 [==============================] - 1s 24us/step - loss: 5.3574 - acc: 0.6647 - val_loss: 5.3400 - val_acc: 0.6643\n",
      "Epoch 33/50\n",
      "50000/50000 [==============================] - 1s 24us/step - loss: 5.3487 - acc: 0.6652 - val_loss: 5.3370 - val_acc: 0.6650\n",
      "Epoch 34/50\n",
      "50000/50000 [==============================] - 1s 24us/step - loss: 5.0387 - acc: 0.6819 - val_loss: 4.6384 - val_acc: 0.7045\n",
      "Epoch 35/50\n",
      "50000/50000 [==============================] - 1s 24us/step - loss: 4.4089 - acc: 0.7200 - val_loss: 4.2383 - val_acc: 0.7303\n",
      "Epoch 36/50\n",
      "50000/50000 [==============================] - 1s 25us/step - loss: 4.1826 - acc: 0.7348 - val_loss: 4.1383 - val_acc: 0.7380\n",
      "Epoch 37/50\n",
      "50000/50000 [==============================] - 1s 24us/step - loss: 4.0867 - acc: 0.7414 - val_loss: 4.0640 - val_acc: 0.7424\n",
      "Epoch 38/50\n",
      "50000/50000 [==============================] - 1s 24us/step - loss: 4.0415 - acc: 0.7449 - val_loss: 4.0145 - val_acc: 0.7452\n",
      "Epoch 39/50\n",
      "50000/50000 [==============================] - 1s 24us/step - loss: 4.0072 - acc: 0.7472 - val_loss: 3.9844 - val_acc: 0.7477\n",
      "Epoch 40/50\n",
      "50000/50000 [==============================] - 1s 25us/step - loss: 3.9837 - acc: 0.7487 - val_loss: 3.9633 - val_acc: 0.7488\n",
      "Epoch 41/50\n",
      "50000/50000 [==============================] - 1s 24us/step - loss: 3.9616 - acc: 0.7503 - val_loss: 3.9492 - val_acc: 0.7505\n",
      "Epoch 42/50\n",
      "50000/50000 [==============================] - 1s 24us/step - loss: 3.9480 - acc: 0.7516 - val_loss: 3.9392 - val_acc: 0.7511\n",
      "Epoch 43/50\n",
      "50000/50000 [==============================] - 1s 24us/step - loss: 3.9341 - acc: 0.7522 - val_loss: 3.9180 - val_acc: 0.7527\n",
      "Epoch 44/50\n",
      "50000/50000 [==============================] - 1s 24us/step - loss: 3.9280 - acc: 0.7529 - val_loss: 3.9238 - val_acc: 0.7515\n",
      "Epoch 45/50\n",
      "50000/50000 [==============================] - 1s 24us/step - loss: 3.9105 - acc: 0.7536 - val_loss: 3.8911 - val_acc: 0.7538\n",
      "Epoch 46/50\n",
      "50000/50000 [==============================] - 1s 24us/step - loss: 3.8991 - acc: 0.7547 - val_loss: 3.8863 - val_acc: 0.7544\n",
      "Epoch 47/50\n",
      "50000/50000 [==============================] - 1s 24us/step - loss: 3.8856 - acc: 0.7559 - val_loss: 3.8814 - val_acc: 0.7549\n",
      "Epoch 48/50\n",
      "50000/50000 [==============================] - 1s 25us/step - loss: 3.8780 - acc: 0.7563 - val_loss: 3.8721 - val_acc: 0.7550\n",
      "Epoch 49/50\n",
      "50000/50000 [==============================] - 1s 24us/step - loss: 3.8693 - acc: 0.7572 - val_loss: 3.8619 - val_acc: 0.7562\n",
      "Epoch 50/50\n",
      "50000/50000 [==============================] - 1s 25us/step - loss: 3.8633 - acc: 0.7570 - val_loss: 3.8668 - val_acc: 0.7557\n"
     ]
    }
   ],
   "source": [
    "from keras import optimizers\n",
    "\n",
    "# optimization algorithm, learning rate, loss function, metric\n",
    "model.compile(optimizers.RMSprop(lr=0.0001), loss='categorical_crossentropy', metrics=['accuracy'])\n",
    "\n",
    "# batch size and number of epochs\n",
    "history = model.fit(x_train_vec, y_train_vec, batch_size=128, epochs=50, validation_data=(x_valid_vec, y_valid_vec))"
   ]
  },
  {
   "cell_type": "markdown",
   "metadata": {},
   "source": [
    "## Examine the Results\n",
    "\n",
    "1. Plot the accuracy against epochs"
   ]
  },
  {
   "cell_type": "code",
   "execution_count": 7,
   "metadata": {},
   "outputs": [
    {
     "data": {
      "image/png": "[encoded data removed]",
      "text/plain": [
       "<Figure size 432x288 with 1 Axes>"
      ]
     },
     "metadata": {
      "needs_background": "light"
     },
     "output_type": "display_data"
    }
   ],
   "source": [
    "import matplotlib.pyplot as plt\n",
    "%matplotlib inline\n",
    "\n",
    "epochs = range(50)\n",
    "train_acc = history.history['acc']\n",
    "valid_acc = history.history['val_acc']\n",
    "plt.plot(epochs, train_acc, 'bo', label='Training Accuracy')\n",
    "plt.plot(epochs, valid_acc, 'r', label='Validation Accuracy')\n",
    "plt.xlabel('Epochs')\n",
    "plt.ylabel('Accuracy')\n",
    "plt.legend()\n",
    "plt.show()"
   ]
  },
  {
   "cell_type": "markdown",
   "metadata": {},
   "source": [
    "2. Evaluate the model on the test set. "
   ]
  },
  {
   "cell_type": "code",
   "execution_count": 8,
   "metadata": {},
   "outputs": [
    {
     "name": "stdout",
     "output_type": "stream",
     "text": [
      "10000/10000 [==============================] - 0s 24us/step\n",
      "loss = 3.963617168426514\n",
      "accuracy = 0.7505\n"
     ]
    }
   ],
   "source": [
    "loss_and_acc = model.evaluate(x_test_vec, y_test_vec)\n",
    "print('loss = ' + str(loss_and_acc[0]))\n",
    "print('accuracy = ' + str(loss_and_acc[1]))"
   ]
  },
  {
   "cell_type": "code",
   "execution_count": null,
   "metadata": {},
   "outputs": [],
   "source": []
  }
 ],
 "metadata": {
  "kernelspec": {
   "display_name": "Python 3",
   "language": "python",
   "name": "python3"
  },
  "language_info": {
   "codemirror_mode": {
    "name": "ipython",
    "version": 3
   },
   "file_extension": ".py",
   "mimetype": "text/x-python",
   "name": "python",
   "nbconvert_exporter": "python",
   "pygments_lexer": "ipython3",
   "version": "3.7.4"
  }
 },
 "nbformat": 4,
 "nbformat_minor": 2
}
