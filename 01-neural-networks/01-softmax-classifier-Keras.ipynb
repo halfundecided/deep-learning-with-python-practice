{
 "cells": [
  {
   "cell_type": "markdown",
   "metadata": {},
   "source": [
    "# Implement a Softmax Classifier Using Keras "
   ]
  },
  {
   "cell_type": "markdown",
   "metadata": {},
   "source": [
    "## Load and Process the MNIST Dataset\n",
    "\n",
    "1. Load data"
   ]
  },
  {
   "cell_type": "code",
   "execution_count": 1,
   "metadata": {},
   "outputs": [
    {
     "name": "stderr",
     "output_type": "stream",
     "text": [
      "Using TensorFlow backend.\n"
     ]
    },
    {
     "name": "stdout",
     "output_type": "stream",
     "text": [
      "Shape of x_train: (60000, 28, 28)\n",
      "Shape of y_train: (60000,)\n",
      "Shape of x_test: (10000, 28, 28)\n",
      "Shape of y_test: (10000,)\n"
     ]
    }
   ],
   "source": [
    "from keras.datasets import mnist \n",
    "\n",
    "(x_train, y_train), (x_test, y_test) = mnist.load_data()\n",
    "\n",
    "print('Shape of x_train: ' + str(x_train.shape))\n",
    "print('Shape of y_train: ' + str(y_train.shape))\n",
    "print('Shape of x_test: ' + str(x_test.shape))\n",
    "print('Shape of y_test: ' + str(y_test.shape))"
   ]
  },
  {
   "cell_type": "markdown",
   "metadata": {},
   "source": [
    "2. Convert the 28x28 images to 784-dim vectors "
   ]
  },
  {
   "cell_type": "code",
   "execution_count": 2,
   "metadata": {},
   "outputs": [
    {
     "name": "stdout",
     "output_type": "stream",
     "text": [
      "Shape of x_train_vec is (60000, 784)\n",
      "Shape of x_test_vec is (10000, 784)\n"
     ]
    }
   ],
   "source": [
    "x_train_vec = x_train.reshape(60000,784)\n",
    "x_test_vec = x_test.reshape(10000,784)\n",
    "\n",
    "print('Shape of x_train_vec is ' + str(x_train_vec.shape))\n",
    "print('Shape of x_test_vec is ' + str(x_test_vec.shape))"
   ]
  },
  {
   "cell_type": "markdown",
   "metadata": {},
   "source": [
    "3. One-hot encode: convert the labels to 10-dim vectors"
   ]
  },
  {
   "cell_type": "code",
   "execution_count": 3,
   "metadata": {},
   "outputs": [
    {
     "name": "stdout",
     "output_type": "stream",
     "text": [
      "Shape of y_train_vec is (60000, 10)\n",
      "Shape of y_test_vec is (10000, 10)\n"
     ]
    }
   ],
   "source": [
    "import numpy as np\n",
    "\n",
    "def to_one_hot(labels, dimension=10):\n",
    "    results = np.zeros((len(labels), dimension))\n",
    "    for i, label in enumerate(labels):\n",
    "        results[i, label] = 1.\n",
    "    return results\n",
    "\n",
    "y_train_vec = to_one_hot(y_train)\n",
    "y_test_vec = to_one_hot(y_test)\n",
    "\n",
    "print('Shape of y_train_vec is ' + str(y_train_vec.shape))\n",
    "print('Shape of y_test_vec is ' + str(y_test_vec.shape))"
   ]
  },
  {
   "cell_type": "markdown",
   "metadata": {},
   "source": [
    "4. Partition the training set to training and validation sets"
   ]
  },
  {
   "cell_type": "code",
   "execution_count": 4,
   "metadata": {},
   "outputs": [
    {
     "name": "stdout",
     "output_type": "stream",
     "text": [
      "Shape of x_valid_vec: (10000, 784)\n",
      "Shape of y_valid_vec: (10000, 10)\n",
      "Shape of x_train_vec: (50000, 784)\n",
      "Shape of y_train_vec: (50000, 10)\n"
     ]
    }
   ],
   "source": [
    "rand_indices = np.random.permutation(60000)\n",
    "train_indices = rand_indices[0:50000]\n",
    "valid_indices = rand_indices[50000:60000]\n",
    "\n",
    "x_valid_vec = x_train_vec[valid_indices, : ]\n",
    "y_valid_vec = y_train_vec[valid_indices, : ]\n",
    "\n",
    "x_train_vec = x_train_vec[train_indices, : ]\n",
    "y_train_vec = y_train_vec[train_indices, : ]\n",
    "\n",
    "print('Shape of x_valid_vec: ' + str(x_valid_vec.shape))\n",
    "print('Shape of y_valid_vec: ' + str(y_valid_vec.shape))\n",
    "print('Shape of x_train_vec: ' + str(x_train_vec.shape))\n",
    "print('Shape of y_train_vec: ' + str(y_train_vec.shape))"
   ]
  },
  {
   "cell_type": "markdown",
   "metadata": {},
   "source": [
    "## Build the Softmax Classifier"
   ]
  },
  {
   "cell_type": "code",
   "execution_count": 5,
   "metadata": {},
   "outputs": [
    {
     "name": "stdout",
     "output_type": "stream",
     "text": [
      "_________________________________________________________________\n",
      "Layer (type)                 Output Shape              Param #   \n",
      "=================================================================\n",
      "dense_1 (Dense)              (None, 10)                7850      \n",
      "=================================================================\n",
      "Total params: 7,850\n",
      "Trainable params: 7,850\n",
      "Non-trainable params: 0\n",
      "_________________________________________________________________\n"
     ]
    }
   ],
   "source": [
    "import os\n",
    "os.environ['TF_CPP_MIN_LOG_LEVEL'] = '3'\n",
    "import tensorflow as tf\n",
    "tf.compat.v1.logging.set_verbosity(tf.compat.v1.logging.ERROR)\n",
    "\n",
    "from keras import models \n",
    "from keras import layers \n",
    "\n",
    "model = models.Sequential()\n",
    "model.add(layers.Dense(10, activation='softmax', input_shape=(784,)))\n",
    "\n",
    "model.summary()"
   ]
  },
  {
   "cell_type": "markdown",
   "metadata": {},
   "source": [
    "## Train the Softmax Classifier"
   ]
  },
  {
   "cell_type": "code",
   "execution_count": 6,
   "metadata": {},
   "outputs": [
    {
     "name": "stdout",
     "output_type": "stream",
     "text": [
      "Train on 50000 samples, validate on 10000 samples\n",
      "Epoch 1/50\n",
      "50000/50000 [==============================] - 2s 31us/step - loss: 12.7847 - acc: 0.1967 - val_loss: 11.2073 - val_acc: 0.2919\n",
      "Epoch 2/50\n",
      "50000/50000 [==============================] - 1s 21us/step - loss: 9.9073 - acc: 0.3734 - val_loss: 8.9634 - val_acc: 0.4344\n",
      "Epoch 3/50\n",
      "50000/50000 [==============================] - 1s 21us/step - loss: 8.6344 - acc: 0.4559 - val_loss: 8.2952 - val_acc: 0.4782\n",
      "Epoch 4/50\n",
      "50000/50000 [==============================] - 1s 21us/step - loss: 7.9462 - acc: 0.4980 - val_loss: 7.3160 - val_acc: 0.5352\n",
      "Epoch 5/50\n",
      "50000/50000 [==============================] - 1s 21us/step - loss: 6.8873 - acc: 0.5625 - val_loss: 6.4807 - val_acc: 0.5872\n",
      "Epoch 6/50\n",
      "50000/50000 [==============================] - 1s 21us/step - loss: 6.1035 - acc: 0.6099 - val_loss: 5.6973 - val_acc: 0.6349\n",
      "Epoch 7/50\n",
      "50000/50000 [==============================] - 1s 21us/step - loss: 5.4298 - acc: 0.6519 - val_loss: 5.1535 - val_acc: 0.6684\n",
      "Epoch 8/50\n",
      "50000/50000 [==============================] - 1s 21us/step - loss: 5.0431 - acc: 0.6771 - val_loss: 4.8358 - val_acc: 0.6905\n",
      "Epoch 9/50\n",
      "50000/50000 [==============================] - 1s 21us/step - loss: 4.8069 - acc: 0.6920 - val_loss: 4.6955 - val_acc: 0.6996\n",
      "Epoch 10/50\n",
      "50000/50000 [==============================] - 1s 22us/step - loss: 4.6689 - acc: 0.7016 - val_loss: 4.5864 - val_acc: 0.7071\n",
      "Epoch 11/50\n",
      "50000/50000 [==============================] - 1s 22us/step - loss: 4.5628 - acc: 0.7086 - val_loss: 4.5242 - val_acc: 0.7125\n",
      "Epoch 12/50\n",
      "50000/50000 [==============================] - 1s 23us/step - loss: 4.4844 - acc: 0.7140 - val_loss: 4.4455 - val_acc: 0.7177\n",
      "Epoch 13/50\n",
      "50000/50000 [==============================] - 1s 23us/step - loss: 4.4227 - acc: 0.7186 - val_loss: 4.4137 - val_acc: 0.7188\n",
      "Epoch 14/50\n",
      "50000/50000 [==============================] - 1s 23us/step - loss: 4.3618 - acc: 0.7218 - val_loss: 4.3464 - val_acc: 0.7238\n",
      "Epoch 15/50\n",
      "50000/50000 [==============================] - 2s 31us/step - loss: 4.3185 - acc: 0.7253 - val_loss: 4.3282 - val_acc: 0.7253\n",
      "Epoch 16/50\n",
      "50000/50000 [==============================] - 1s 26us/step - loss: 4.2817 - acc: 0.7273 - val_loss: 4.3256 - val_acc: 0.7248\n",
      "Epoch 17/50\n",
      "50000/50000 [==============================] - 1s 25us/step - loss: 4.2507 - acc: 0.7295 - val_loss: 4.2743 - val_acc: 0.7290\n",
      "Epoch 18/50\n",
      "50000/50000 [==============================] - 1s 24us/step - loss: 4.2218 - acc: 0.7318 - val_loss: 4.2780 - val_acc: 0.7280\n",
      "Epoch 19/50\n",
      "50000/50000 [==============================] - 1s 23us/step - loss: 4.0362 - acc: 0.7416 - val_loss: 3.7920 - val_acc: 0.7534\n",
      "Epoch 20/50\n",
      "50000/50000 [==============================] - 1s 24us/step - loss: 3.5066 - acc: 0.7712 - val_loss: 3.4315 - val_acc: 0.7753\n",
      "Epoch 21/50\n",
      "50000/50000 [==============================] - 1s 23us/step - loss: 3.2489 - acc: 0.7875 - val_loss: 3.2475 - val_acc: 0.7887\n",
      "Epoch 22/50\n",
      "50000/50000 [==============================] - 1s 23us/step - loss: 3.1156 - acc: 0.7976 - val_loss: 3.1673 - val_acc: 0.7936\n",
      "Epoch 23/50\n",
      "50000/50000 [==============================] - 1s 23us/step - loss: 3.0408 - acc: 0.8027 - val_loss: 3.1377 - val_acc: 0.7970\n",
      "Epoch 24/50\n",
      "50000/50000 [==============================] - 1s 23us/step - loss: 2.9907 - acc: 0.8057 - val_loss: 3.0785 - val_acc: 0.7999\n",
      "Epoch 25/50\n",
      "50000/50000 [==============================] - 1s 23us/step - loss: 2.9487 - acc: 0.8093 - val_loss: 3.0461 - val_acc: 0.8016\n",
      "Epoch 26/50\n",
      "50000/50000 [==============================] - 1s 23us/step - loss: 2.9191 - acc: 0.8110 - val_loss: 3.0391 - val_acc: 0.8018\n",
      "Epoch 27/50\n",
      "50000/50000 [==============================] - 1s 23us/step - loss: 2.8832 - acc: 0.8131 - val_loss: 2.9944 - val_acc: 0.8052\n",
      "Epoch 28/50\n",
      "50000/50000 [==============================] - 1s 23us/step - loss: 2.8565 - acc: 0.8148 - val_loss: 2.9715 - val_acc: 0.8062\n",
      "Epoch 29/50\n",
      "50000/50000 [==============================] - 1s 23us/step - loss: 2.8331 - acc: 0.8163 - val_loss: 2.9615 - val_acc: 0.8082\n",
      "Epoch 30/50\n",
      "50000/50000 [==============================] - 1s 24us/step - loss: 2.8097 - acc: 0.8183 - val_loss: 2.9489 - val_acc: 0.8082\n",
      "Epoch 31/50\n",
      "50000/50000 [==============================] - 1s 24us/step - loss: 2.7944 - acc: 0.8192 - val_loss: 2.9388 - val_acc: 0.8087\n",
      "Epoch 32/50\n",
      "50000/50000 [==============================] - 1s 24us/step - loss: 2.7814 - acc: 0.8205 - val_loss: 2.9408 - val_acc: 0.8099\n",
      "Epoch 33/50\n",
      "50000/50000 [==============================] - 1s 23us/step - loss: 2.7677 - acc: 0.8212 - val_loss: 2.9149 - val_acc: 0.8115\n",
      "Epoch 34/50\n",
      "50000/50000 [==============================] - 1s 23us/step - loss: 2.7565 - acc: 0.8227 - val_loss: 2.9093 - val_acc: 0.8110\n",
      "Epoch 35/50\n",
      "50000/50000 [==============================] - 1s 24us/step - loss: 2.7462 - acc: 0.8230 - val_loss: 2.8992 - val_acc: 0.8121\n",
      "Epoch 36/50\n",
      "50000/50000 [==============================] - 1s 24us/step - loss: 2.7346 - acc: 0.8244 - val_loss: 2.9037 - val_acc: 0.8117\n",
      "Epoch 37/50\n",
      "50000/50000 [==============================] - 1s 25us/step - loss: 2.7261 - acc: 0.8242 - val_loss: 2.8879 - val_acc: 0.8114\n",
      "Epoch 38/50\n",
      "50000/50000 [==============================] - 1s 23us/step - loss: 2.7152 - acc: 0.8251 - val_loss: 2.8628 - val_acc: 0.8137\n",
      "Epoch 39/50\n",
      "50000/50000 [==============================] - 1s 24us/step - loss: 2.7031 - acc: 0.8259 - val_loss: 2.8798 - val_acc: 0.8138\n",
      "Epoch 40/50\n",
      "50000/50000 [==============================] - 1s 24us/step - loss: 2.6975 - acc: 0.8263 - val_loss: 2.8461 - val_acc: 0.8157\n",
      "Epoch 41/50\n",
      "50000/50000 [==============================] - 1s 23us/step - loss: 2.6876 - acc: 0.8275 - val_loss: 2.8471 - val_acc: 0.8159\n",
      "Epoch 42/50\n",
      "50000/50000 [==============================] - 1s 23us/step - loss: 2.6755 - acc: 0.8278 - val_loss: 2.8387 - val_acc: 0.8142\n",
      "Epoch 43/50\n",
      "50000/50000 [==============================] - 1s 23us/step - loss: 2.6725 - acc: 0.8282 - val_loss: 2.8380 - val_acc: 0.8166\n",
      "Epoch 44/50\n",
      "50000/50000 [==============================] - 1s 24us/step - loss: 2.6610 - acc: 0.8290 - val_loss: 2.8446 - val_acc: 0.8157\n",
      "Epoch 45/50\n",
      "50000/50000 [==============================] - 1s 24us/step - loss: 2.6561 - acc: 0.8295 - val_loss: 2.8367 - val_acc: 0.8163\n",
      "Epoch 46/50\n",
      "50000/50000 [==============================] - 1s 24us/step - loss: 2.6475 - acc: 0.8296 - val_loss: 2.8157 - val_acc: 0.8170\n",
      "Epoch 47/50\n",
      "50000/50000 [==============================] - 1s 24us/step - loss: 2.6402 - acc: 0.8301 - val_loss: 2.8172 - val_acc: 0.8179\n",
      "Epoch 48/50\n",
      "50000/50000 [==============================] - 1s 24us/step - loss: 2.6333 - acc: 0.8310 - val_loss: 2.8125 - val_acc: 0.8177\n",
      "Epoch 49/50\n",
      "50000/50000 [==============================] - 1s 24us/step - loss: 2.6268 - acc: 0.8311 - val_loss: 2.8078 - val_acc: 0.8179\n",
      "Epoch 50/50\n",
      "50000/50000 [==============================] - 1s 24us/step - loss: 2.6168 - acc: 0.8321 - val_loss: 2.8258 - val_acc: 0.8167\n"
     ]
    }
   ],
   "source": [
    "from keras import optimizers\n",
    "\n",
    "# optimization algorithm, learning rate, loss function, metric\n",
    "model.compile(optimizers.RMSprop(lr=0.0001), loss='categorical_crossentropy', metrics=['accuracy'])\n",
    "\n",
    "# batch size and number of epochs\n",
    "history = model.fit(x_train_vec, y_train_vec, batch_size=128, epochs=50, validation_data=(x_valid_vec, y_valid_vec))"
   ]
  },
  {
   "cell_type": "markdown",
   "metadata": {},
   "source": [
    "## Examine the Results\n",
    "\n",
    "1. Plot the accuracy against epochs"
   ]
  },
  {
   "cell_type": "code",
   "execution_count": 1,
   "metadata": {},
   "outputs": [
    {
     "ename": "NameError",
     "evalue": "name 'history' is not defined",
     "output_type": "error",
     "traceback": [
      "\u001b[0;31m---------------------------------------------------------------------------\u001b[0m",
      "\u001b[0;31mNameError\u001b[0m                                 Traceback (most recent call last)",
      "\u001b[0;32m<ipython-input-1-35f9932d4c92>\u001b[0m in \u001b[0;36m<module>\u001b[0;34m\u001b[0m\n\u001b[1;32m      3\u001b[0m \u001b[0;34m\u001b[0m\u001b[0m\n\u001b[1;32m      4\u001b[0m \u001b[0mepochs\u001b[0m \u001b[0;34m=\u001b[0m \u001b[0mrange\u001b[0m\u001b[0;34m(\u001b[0m\u001b[0;36m50\u001b[0m\u001b[0;34m)\u001b[0m\u001b[0;34m\u001b[0m\u001b[0;34m\u001b[0m\u001b[0m\n\u001b[0;32m----> 5\u001b[0;31m \u001b[0mtrain_acc\u001b[0m \u001b[0;34m=\u001b[0m \u001b[0mhistory\u001b[0m\u001b[0;34m.\u001b[0m\u001b[0mhistory\u001b[0m\u001b[0;34m[\u001b[0m\u001b[0;34m'acc'\u001b[0m\u001b[0;34m]\u001b[0m\u001b[0;34m\u001b[0m\u001b[0;34m\u001b[0m\u001b[0m\n\u001b[0m\u001b[1;32m      6\u001b[0m \u001b[0mvalid_acc\u001b[0m \u001b[0;34m=\u001b[0m \u001b[0mhistory\u001b[0m\u001b[0;34m.\u001b[0m\u001b[0mhistory\u001b[0m\u001b[0;34m[\u001b[0m\u001b[0;34m'val_acc'\u001b[0m\u001b[0;34m]\u001b[0m\u001b[0;34m\u001b[0m\u001b[0;34m\u001b[0m\u001b[0m\n\u001b[1;32m      7\u001b[0m \u001b[0mplt\u001b[0m\u001b[0;34m.\u001b[0m\u001b[0mplot\u001b[0m\u001b[0;34m(\u001b[0m\u001b[0mepochs\u001b[0m\u001b[0;34m,\u001b[0m \u001b[0mtrain_acc\u001b[0m\u001b[0;34m,\u001b[0m \u001b[0;34m'bo'\u001b[0m\u001b[0;34m,\u001b[0m \u001b[0mlabel\u001b[0m\u001b[0;34m=\u001b[0m\u001b[0;34m'Training Accuracy'\u001b[0m\u001b[0;34m)\u001b[0m\u001b[0;34m\u001b[0m\u001b[0;34m\u001b[0m\u001b[0m\n",
      "\u001b[0;31mNameError\u001b[0m: name 'history' is not defined"
     ]
    }
   ],
   "source": [
    "import matplotlib.pyplot as plt\n",
    "%matplotlib inline\n",
    "\n",
    "epochs = range(50)\n",
    "train_acc = history.history['acc']\n",
    "valid_acc = history.history['val_acc']\n",
    "plt.plot(epochs, train_acc, 'bo', label='Training Accuracy')\n",
    "plt.plot(epochs, valid_acc, 'r', label='Validation Accuracy')\n",
    "plt.xlabel('Epochs')\n",
    "plt.ylabel('Accuracy')\n",
    "plt.legend()\n",
    "plt.show()"
   ]
  },
  {
   "cell_type": "markdown",
   "metadata": {},
   "source": [
    "2. Evaluate the model on the test set. "
   ]
  },
  {
   "cell_type": "code",
   "execution_count": 2,
   "metadata": {},
   "outputs": [
    {
     "ename": "NameError",
     "evalue": "name 'model' is not defined",
     "output_type": "error",
     "traceback": [
      "\u001b[0;31m---------------------------------------------------------------------------\u001b[0m",
      "\u001b[0;31mNameError\u001b[0m                                 Traceback (most recent call last)",
      "\u001b[0;32m<ipython-input-2-070b95b45409>\u001b[0m in \u001b[0;36m<module>\u001b[0;34m\u001b[0m\n\u001b[0;32m----> 1\u001b[0;31m \u001b[0mloss_and_acc\u001b[0m \u001b[0;34m=\u001b[0m \u001b[0mmodel\u001b[0m\u001b[0;34m.\u001b[0m\u001b[0mevaluate\u001b[0m\u001b[0;34m(\u001b[0m\u001b[0mx_test_vec\u001b[0m\u001b[0;34m,\u001b[0m \u001b[0my_test_vec\u001b[0m\u001b[0;34m)\u001b[0m\u001b[0;34m\u001b[0m\u001b[0;34m\u001b[0m\u001b[0m\n\u001b[0m\u001b[1;32m      2\u001b[0m \u001b[0mprint\u001b[0m\u001b[0;34m(\u001b[0m\u001b[0;34m'loss = '\u001b[0m \u001b[0;34m+\u001b[0m \u001b[0mstr\u001b[0m\u001b[0;34m(\u001b[0m\u001b[0mloss_and_acc\u001b[0m\u001b[0;34m[\u001b[0m\u001b[0;36m0\u001b[0m\u001b[0;34m]\u001b[0m\u001b[0;34m)\u001b[0m\u001b[0;34m)\u001b[0m\u001b[0;34m\u001b[0m\u001b[0;34m\u001b[0m\u001b[0m\n\u001b[1;32m      3\u001b[0m \u001b[0mprint\u001b[0m\u001b[0;34m(\u001b[0m\u001b[0;34m'accuracy = '\u001b[0m \u001b[0;34m+\u001b[0m \u001b[0mstr\u001b[0m\u001b[0;34m(\u001b[0m\u001b[0mloss_and_acc\u001b[0m\u001b[0;34m[\u001b[0m\u001b[0;36m1\u001b[0m\u001b[0;34m]\u001b[0m\u001b[0;34m)\u001b[0m\u001b[0;34m)\u001b[0m\u001b[0;34m\u001b[0m\u001b[0;34m\u001b[0m\u001b[0m\n",
      "\u001b[0;31mNameError\u001b[0m: name 'model' is not defined"
     ]
    }
   ],
   "source": [
    "loss_and_acc = model.evaluate(x_test_vec, y_test_vec)\n",
    "print('loss = ' + str(loss_and_acc[0]))\n",
    "print('accuracy = ' + str(loss_and_acc[1]))"
   ]
  },
  {
   "cell_type": "code",
   "execution_count": null,
   "metadata": {},
   "outputs": [],
   "source": []
  }
 ],
 "metadata": {
  "kernelspec": {
   "display_name": "Python 3",
   "language": "python",
   "name": "python3"
  },
  "language_info": {
   "codemirror_mode": {
    "name": "ipython",
    "version": 3
   },
   "file_extension": ".py",
   "mimetype": "text/x-python",
   "name": "python",
   "nbconvert_exporter": "python",
   "pygments_lexer": "ipython3",
   "version": "3.7.4"
  }
 },
 "nbformat": 4,
 "nbformat_minor": 2
}
